{
 "cells": [
  {
   "cell_type": "code",
   "execution_count": 4,
   "id": "b95656da-84e7-4f4a-9a6e-55aca03e9a75",
   "metadata": {
    "scrolled": true
   },
   "outputs": [
    {
     "name": "stdout",
     "output_type": "stream",
     "text": [
      "2\n"
     ]
    },
    {
     "data": {
      "text/plain": [
       "(1, 2, 3)"
      ]
     },
     "execution_count": 4,
     "metadata": {},
     "output_type": "execute_result"
    }
   ],
   "source": [
    "list = [1,0.3,0.5,0.16] #list structure\n",
    "len(list) # length of list\n",
    "del list[2] # deletes from list at position 2\n",
    "list.extend([0.5,0.3]) # extends list by adding values\n",
    "print(list.count(0.3)) #returns occurrence of value within list\n",
    "list.reverse() #reverses list order\n"
   ]
  },
  {
   "cell_type": "code",
   "execution_count": 7,
   "id": "f918be0e-2ead-48b8-8bc6-6b05daa8cbc5",
   "metadata": {},
   "outputs": [
    {
     "data": {
      "text/plain": [
       "'e'"
      ]
     },
     "execution_count": 7,
     "metadata": {},
     "output_type": "execute_result"
    }
   ],
   "source": [
    "stack=['a','b','c','d']\n",
    "stack.append('e') #adds element to a stack\n",
    "elem=stack.pop() #retrieves last added element from stack\n"
   ]
  },
  {
   "cell_type": "code",
   "execution_count": 8,
   "id": "40a6d14b-1384-48e0-82bd-903b4fe9862a",
   "metadata": {},
   "outputs": [
    {
     "data": {
      "text/plain": [
       "(1, 2, 3)"
      ]
     },
     "execution_count": 8,
     "metadata": {},
     "output_type": "execute_result"
    }
   ],
   "source": [
    "#Tuple - values separated by commas, immutable\n",
    "t=1,2,3\n",
    "t\n"
   ]
  },
  {
   "cell_type": "code",
   "execution_count": 11,
   "id": "2d2ef3ff-f430-47da-9f2c-959126b16925",
   "metadata": {},
   "outputs": [
    {
     "data": {
      "text/plain": [
       "{'Protein', 'RNA'}"
      ]
     },
     "execution_count": 11,
     "metadata": {},
     "output_type": "execute_result"
    }
   ],
   "source": [
    "#Set - unordered collection, no duplicate elements\n",
    "\n",
    "brca1 = {'DNA', 'RNA', 'Protein'}\n",
    "brca2 = {'DNA', 'mRNA', 'dsb'}\n",
    "\n",
    "brca1|brca2 #union\n",
    "brca1 & brca2 #intersection \n",
    "brca1 - brca2 #difference"
   ]
  },
  {
   "cell_type": "code",
   "execution_count": 12,
   "id": "ecd9c44e-a86e-4ec6-837a-3b35b6dc8072",
   "metadata": {},
   "outputs": [
    {
     "data": {
      "text/plain": [
       "{'sp1': 'gggccg', 'AP1': 'tgcgta'}"
      ]
     },
     "execution_count": 12,
     "metadata": {},
     "output_type": "execute_result"
    }
   ],
   "source": [
    "#dictionary  unordered set of keys and values, keys can be any immutable types, values can be anything\n",
    "\n",
    "TF = {'sp1':'gggccg'}\n",
    "TF['AP1']='tgcgta' #adds key vlaue pair\n",
    "# delete value: del TF[keyname]\n",
    "\n"
   ]
  },
  {
   "cell_type": "code",
   "execution_count": 15,
   "id": "faf2f787-7e0c-43f4-8d83-420bfd8ff516",
   "metadata": {},
   "outputs": [
    {
     "data": {
      "text/plain": [
       "['GT-AG', 'GC-AG']"
      ]
     },
     "execution_count": 15,
     "metadata": {},
     "output_type": "execute_result"
    }
   ],
   "source": [
    "splice_site_pairs = ['GT-AG','GC-AG','AT-AC']\n",
    "splice_site_pairs[:-1]"
   ]
  },
  {
   "cell_type": "code",
   "execution_count": 17,
   "id": "225523d2-3c9f-455c-a039-df3f5ce46e24",
   "metadata": {},
   "outputs": [
    {
     "data": {
      "text/plain": [
       "{'cheese': 'Dairy', 'Cheese': 'Dairy'}"
      ]
     },
     "execution_count": 17,
     "metadata": {},
     "output_type": "execute_result"
    }
   ],
   "source": [
    "someData = { }\n",
    "someData['cheese'] = 'dairy'\n",
    "someData['Cheese'] = 'dairy'\n",
    "someData['Cheese'] = 'Dairy'\n",
    "someData['cheese'] = 'Dairy'\n",
    "someData\n"
   ]
  },
  {
   "cell_type": "code",
   "execution_count": null,
   "id": "ff6524db-f318-4781-8281-c610f64d43df",
   "metadata": {},
   "outputs": [],
   "source": [
    "##Ifs and Loops\n",
    "\n",
    "# IF structure for dna entry with n representing undefined bases, returns number of undefined bases\n",
    "DNA = input('Enter DNA sequence') \n",
    "\n",
    "if 'n' in DNA or 'N' in DNA: #condition 1 or 2\n",
    "    nbases = DNA.count('n') + DNA.count('N')\n",
    "    print(\"dna sequence has %d undefined bases \" % nbases)\n",
    "else: #final condition \n",
    "    print('DNA sequence has no undefined bases')\n",
    "\n",
    "\n",
    "#Loops\n",
    "#while loops: execute loop while condition is true\n",
    "\n",
    "dna = input ('Enter dna sequence')\n",
    "pos = dna.find('gt',0) # position of a splice site\n",
    "while pos>-1: # executes code as long as a gt site exists\n",
    "    print (\"Donor splice site candidate at position %d\" %pos) #returns each location of the position of gt\n",
    "    pos=dna.find('gt', pos+1)\n",
    "\n",
    "\n",
    "#For loop\n",
    "#repeats for each variable\n",
    "variable = ('ten','thirty','four')\n",
    "for i in variable:\n",
    "    print(i, len(i))\n",
    "\n",
    "\n",
    "#range (iterate function over range)\n",
    "#for i in range(x=start, y=stop, z=step) \n",
    "\n",
    "#find incorrect amino acid sequnces\n",
    "\n",
    "protein = 'SDVIKHRYOO'\n",
    "for i in range(len(protein)):\n",
    "    if protein[i] not in 'ABCDEFGHIKLMNPQRSTVWXYZ':\n",
    "     print(\"protein contains invalid amino acids %s at position %d\" %(protein[i],i))\n",
    "\n",
    "   #break would stop the sequnce when the condition is met\n",
    "#continue -> \n",
    "\n",
    "#for loop with else \n",
    "N=10\n",
    "for y in range (2, N): \n",
    "    for x in range(2,N): \n",
    "        if y%x==0:\n",
    "            print(y,'equals',x,'*',y/x)\n",
    "            break\n",
    "        else:\n",
    "            #loop didnt find a factor\n",
    "            print(y, 'is a prime number')\n",
    "\n",
    "#python pass statement, does nothing, pass this area for nowd = {}\n",
    "\n"
   ]
  },
  {
   "cell_type": "code",
   "execution_count": null,
   "id": "4c9e9bb1-ff38-46c4-832a-a7cfea3ae9aa",
   "metadata": {},
   "outputs": [],
   "source": []
  },
  {
   "cell_type": "code",
   "execution_count": null,
   "id": "ffebbe90-27ca-437b-b167-6a4548da11fb",
   "metadata": {},
   "outputs": [],
   "source": []
  },
  {
   "cell_type": "code",
   "execution_count": null,
   "id": "5a3e2fef-ed32-4aff-897c-49a32bc14473",
   "metadata": {},
   "outputs": [],
   "source": []
  }
 ],
 "metadata": {
  "kernelspec": {
   "display_name": "Python 3 (ipykernel)",
   "language": "python",
   "name": "python3"
  },
  "language_info": {
   "codemirror_mode": {
    "name": "ipython",
    "version": 3
   },
   "file_extension": ".py",
   "mimetype": "text/x-python",
   "name": "python",
   "nbconvert_exporter": "python",
   "pygments_lexer": "ipython3",
   "version": "3.12.4"
  }
 },
 "nbformat": 4,
 "nbformat_minor": 5
}
