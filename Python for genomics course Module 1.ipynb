{
 "cells": [
  {
   "cell_type": "code",
   "execution_count": 4,
   "id": "580b5cfc-ab15-40f9-a5b9-5478452b5d64",
   "metadata": {},
   "outputs": [
    {
     "data": {
      "text/plain": [
       "6"
      ]
     },
     "execution_count": 4,
     "metadata": {},
     "output_type": "execute_result"
    }
   ],
   "source": [
    "#define dna sequence \n",
    "dna='acgtctctagagtctagaggtgagtcgcta'\n",
    "#count number of c in dna\n",
    "numofc=dna.count('c')\n",
    "numofc\n"
   ]
  },
  {
   "cell_type": "code",
   "execution_count": 3,
   "id": "23f31ce0-714c-428a-8659-369ff6621e23",
   "metadata": {},
   "outputs": [
    {
     "data": {
      "text/plain": [
       "30"
      ]
     },
     "execution_count": 3,
     "metadata": {},
     "output_type": "execute_result"
    }
   ],
   "source": [
    "dna='acgtctctagagtctagaggtgagtcgcta'\n",
    "#length of a string variable \n",
    "length_dna=len(dna)\n",
    "length_dna\n"
   ]
  },
  {
   "cell_type": "code",
   "execution_count": 10,
   "id": "9908ae37-c10b-4ef5-be28-63ee2a3095e2",
   "metadata": {},
   "outputs": [
    {
     "data": {
      "text/plain": [
       "20.0"
      ]
     },
     "execution_count": 10,
     "metadata": {},
     "output_type": "execute_result"
    }
   ],
   "source": [
    "#determine c content\n",
    "cpercent=numofc/length_dna*100\n",
    "cpercent\n"
   ]
  },
  {
   "cell_type": "code",
   "execution_count": null,
   "id": "abc14e9b-850c-4cbc-bba7-27f10cb84ec5",
   "metadata": {},
   "outputs": [],
   "source": []
  },
  {
   "cell_type": "code",
   "execution_count": null,
   "id": "51c3e164-2d09-456e-b4fb-2295ba53268d",
   "metadata": {},
   "outputs": [],
   "source": []
  }
 ],
 "metadata": {
  "kernelspec": {
   "display_name": "Python 3 (ipykernel)",
   "language": "python",
   "name": "python3"
  },
  "language_info": {
   "codemirror_mode": {
    "name": "ipython",
    "version": 3
   },
   "file_extension": ".py",
   "mimetype": "text/x-python",
   "name": "python",
   "nbconvert_exporter": "python",
   "pygments_lexer": "ipython3",
   "version": "3.12.4"
  }
 },
 "nbformat": 4,
 "nbformat_minor": 5
}
